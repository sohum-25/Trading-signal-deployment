{
 "cells": [
  {
   "cell_type": "code",
   "execution_count": 10,
   "id": "c2a4a1e9",
   "metadata": {},
   "outputs": [],
   "source": [
    "from breeze_connect import BreezeConnect\n",
    "import pandas as pd\n",
    "\n",
    "key_api = \"465431N5PF87604W817T9s827K0P0172\"\n",
    "key_secret = \"F`39g946341=P88186BWH3I698Y45689\"\n",
    "key_session ='2357115'\n",
    "\n",
    "# Initialize SDK\n",
    "breeze = BreezeConnect(api_key=key_api)\n",
    "breeze.generate_session(api_secret=key_secret, session_token=key_session)"
   ]
  },
  {
   "cell_type": "code",
   "execution_count": 11,
   "id": "8195c169",
   "metadata": {},
   "outputs": [
    {
     "data": {
      "text/plain": [
       "{'Success': {'bank_account': '043901004074',\n",
       "  'total_bank_balance': 2322.82,\n",
       "  'allocated_equity': 200.32,\n",
       "  'allocated_fno': 2122.5,\n",
       "  'block_by_trade_equity': 0.0,\n",
       "  'block_by_trade_fno': 29.98,\n",
       "  'block_by_trade_balance': 29.98,\n",
       "  'unallocated_balance': '156301.53'},\n",
       " 'Status': 200,\n",
       " 'Error': None}"
      ]
     },
     "execution_count": 11,
     "metadata": {},
     "output_type": "execute_result"
    }
   ],
   "source": [
    "breeze.get_funds()"
   ]
  },
  {
   "cell_type": "code",
   "execution_count": 12,
   "id": "adcaffa2",
   "metadata": {},
   "outputs": [],
   "source": [
    "import talib\n",
    "from datetime import datetime\n",
    "# set the start time as per your wish\n",
    "start = datetime(2022,12,20,14,13)\n",
    "end = datetime(2022,12,24,14,59)\n",
    "now = datetime.now()"
   ]
  },
  {
   "cell_type": "code",
   "execution_count": 16,
   "id": "6e67f063",
   "metadata": {},
   "outputs": [],
   "source": [
    "data = breeze.get_historical_data(interval=\"1minute\",\n",
    "                            from_date= \"2022-12-10T07:00:00.000Z\",\n",
    "                            to_date= \"2022-12-30T07:00:00.000Z\",\n",
    "                            stock_code=\"ITC\",\n",
    "                            exchange_code=\"NSE\",\n",
    "                            product_type=\"cash\")\n",
    "# convert data into dataframe\n",
    "df = pd.DataFrame(data['Success'])\n",
    "df = df[['datetime','open','high','low','close']] "
   ]
  },
  {
   "cell_type": "code",
   "execution_count": 13,
   "id": "3e8a8751",
   "metadata": {},
   "outputs": [],
   "source": [
    "def format_data(df):\n",
    "    # convert the 'datetime' column to Date format \n",
    "    df['datetime']= pd.to_datetime(df['datetime'])\n",
    "    #convert other columns to number format\n",
    "    for column in df.columns:\n",
    "        if column == 'datetime': pass\n",
    "        else : \n",
    "            df[column] = df[column].astype(float)  \n",
    "            df[column] = df[column].round(1)\n",
    "\n",
    "    return df"
   ]
  },
  {
   "cell_type": "code",
   "execution_count": 14,
   "id": "98d58d43",
   "metadata": {},
   "outputs": [],
   "source": [
    "def add_sma(df):\n",
    "    # calculate moving averages uaing close price - 14 day and 30 day and return the updated dataframe\n",
    "    df['short_sma'] = df.close.rolling(14).mean().round(1)\n",
    "    df['long_sma'] = df.close.rolling(30).mean().round(1)\n",
    "    df = df.dropna()\n",
    "    return df"
   ]
  },
  {
   "cell_type": "code",
   "execution_count": 15,
   "id": "bb3efbdd",
   "metadata": {},
   "outputs": [],
   "source": [
    "def add_rsi(df, period):\n",
    "  # calculate RSI for 'period' and return the updated dataframe\n",
    "    delta = df['close'].diff()\n",
    "    up, down = delta.copy(), delta.copy()\n",
    "    up[up < 0] = 0\n",
    "    down[down > 0] = 0\n",
    "    rUp = up.ewm(com=period - 1,adjust=False).mean()\n",
    "    rDown = down.ewm(com=period - 1,adjust=False).mean().abs()\n",
    "    df['RSI_' + str(period)] = 100 - 100 / (1 + rUp / rDown)\n",
    "    df['RSI_' + str(period)].fillna(0,inplace=True)\n",
    "    df['RSI_' + str(period)] = df['RSI_' + str(period)].round(1)\n",
    "    df = df.dropna()\n",
    "    return df"
   ]
  },
  {
   "cell_type": "code",
   "execution_count": null,
   "id": "13fb8f3f",
   "metadata": {},
   "outputs": [],
   "source": [
    "stock_list = [\"GAIL\",\"YESBAN\",\"BHEL\",\"IDECEL\",\"INDR\",\"PUNBAN\"]"
   ]
  },
  {
   "cell_type": "code",
   "execution_count": 27,
   "id": "e10e5073",
   "metadata": {},
   "outputs": [
    {
     "data": {
      "text/plain": [
       "{'Success': {'bank_account': '043901004074',\n",
       "  'total_bank_balance': 2822.82,\n",
       "  'allocated_equity': 700.32,\n",
       "  'allocated_fno': 2122.5,\n",
       "  'block_by_trade_equity': 0.0,\n",
       "  'block_by_trade_fno': 29.98,\n",
       "  'block_by_trade_balance': 29.98,\n",
       "  'unallocated_balance': '155801.53'},\n",
       " 'Status': 200,\n",
       " 'Error': None}"
      ]
     },
     "execution_count": 27,
     "metadata": {},
     "output_type": "execute_result"
    }
   ],
   "source": [
    "breeze.get_funds()"
   ]
  },
  {
   "cell_type": "code",
   "execution_count": 32,
   "id": "4d88d679",
   "metadata": {},
   "outputs": [
    {
     "name": "stdout",
     "output_type": "stream",
     "text": [
      "current level of GAIL RSI is 48.2\n",
      "RSI is lesser than 50 :DO Nothing\n",
      "request was a success,current GAIL price is:96.05\n",
      "current level of YESBAN RSI is 37.7\n",
      "RSI is lesser than 50 :DO Nothing\n",
      "request was a success,current YESBAN price is:21.65\n",
      "current level of BHEL RSI is 52.7\n",
      "RSI is lesser than 50 :DO Nothing\n",
      "request was a success,current BHEL price is:80.7\n",
      "current level ofIDECEL RSI54.4\n",
      "RSI is greater than 50 :Buy signal\n",
      "{'Success': None, 'Status': 500, 'Error': 'Order Value less than minimum order value:Please modify the order'}\n",
      "EXECUTED\n",
      "request was a success,current IDECEL price is:7.95\n",
      "current level of INDR RSI is 50.9\n",
      "RSI is lesser than 50 :DO Nothing\n",
      "request was a success,current INDR price is:32.9\n"
     ]
    },
    {
     "ename": "KeyError",
     "evalue": "'PUNBAN'",
     "output_type": "error",
     "traceback": [
      "\u001b[0;31m---------------------------------------------------------------------------\u001b[0m",
      "\u001b[0;31mKeyError\u001b[0m                                  Traceback (most recent call last)",
      "\u001b[0;32m/var/folders/ww/y9j0h59n1vlcwf74g2wntg_h0000gn/T/ipykernel_25547/3306398812.py\u001b[0m in \u001b[0;36m<module>\u001b[0;34m\u001b[0m\n\u001b[1;32m     21\u001b[0m         \u001b[0mRSI\u001b[0m \u001b[0;34m=\u001b[0m \u001b[0mpr\u001b[0m\u001b[0;34m[\u001b[0m\u001b[0;34m\"RSI_14\"\u001b[0m\u001b[0;34m]\u001b[0m\u001b[0;34m.\u001b[0m\u001b[0miloc\u001b[0m\u001b[0;34m[\u001b[0m\u001b[0;34m-\u001b[0m\u001b[0;36m1\u001b[0m\u001b[0;34m]\u001b[0m\u001b[0;34m\u001b[0m\u001b[0;34m\u001b[0m\u001b[0m\n\u001b[1;32m     22\u001b[0m         \u001b[0mRSI_1\u001b[0m \u001b[0;34m=\u001b[0m \u001b[0mpr\u001b[0m\u001b[0;34m[\u001b[0m\u001b[0;34m\"RSI_14\"\u001b[0m\u001b[0;34m]\u001b[0m\u001b[0;34m.\u001b[0m\u001b[0miloc\u001b[0m\u001b[0;34m[\u001b[0m\u001b[0;34m-\u001b[0m\u001b[0;36m2\u001b[0m\u001b[0;34m]\u001b[0m\u001b[0;34m\u001b[0m\u001b[0;34m\u001b[0m\u001b[0m\n\u001b[0;32m---> 23\u001b[0;31m         \u001b[0;32mif\u001b[0m  \u001b[0;34m(\u001b[0m\u001b[0mRSI_1\u001b[0m \u001b[0;34m>\u001b[0m\u001b[0;36m50\u001b[0m\u001b[0;34m)\u001b[0m \u001b[0;32mand\u001b[0m \u001b[0mstock_status\u001b[0m\u001b[0;34m[\u001b[0m\u001b[0mstock_list\u001b[0m\u001b[0;34m[\u001b[0m\u001b[0mstock\u001b[0m\u001b[0;34m]\u001b[0m\u001b[0;34m]\u001b[0m\u001b[0;34m==\u001b[0m \u001b[0;34m\"waiting\"\u001b[0m\u001b[0;34m:\u001b[0m\u001b[0;34m\u001b[0m\u001b[0;34m\u001b[0m\u001b[0m\n\u001b[0m\u001b[1;32m     24\u001b[0m             \u001b[0mprint\u001b[0m\u001b[0;34m(\u001b[0m\u001b[0;34mf'current level of{stock_list[stock]} RSI{RSI}'\u001b[0m\u001b[0;34m)\u001b[0m\u001b[0;34m\u001b[0m\u001b[0;34m\u001b[0m\u001b[0m\n\u001b[1;32m     25\u001b[0m             \u001b[0mprint\u001b[0m\u001b[0;34m(\u001b[0m\u001b[0;34m'RSI is greater than 50 :Buy signal'\u001b[0m\u001b[0;34m)\u001b[0m\u001b[0;34m\u001b[0m\u001b[0;34m\u001b[0m\u001b[0m\n",
      "\u001b[0;31mKeyError\u001b[0m: 'PUNBAN'"
     ]
    }
   ],
   "source": [
    "stock_list = [\"GAIL\",\"YESBAN\",\"BHEL\",\"IDECEL\",\"INDR\",\"PUNBAN\"]\n",
    "from datetime import datetime\n",
    "from datetime import timedelta\n",
    "import time\n",
    "while True:\n",
    "    for stock in range(len(stock_list)):\n",
    "        stock_status = {\"GAIL\":\"waiting\",\"YESBAN\" : \"waiting\",\"BHEL\" : \"waiting\",\"IDECEL\" : \"waiting\",\"INDR\" :\"waiting\"}\n",
    "        data = breeze.get_historical_data(interval=\"1minute\",\n",
    "                                from_date= \"2022-12-10T07:00:00.000Z\",\n",
    "                                to_date= \"2023-01-02T07:00:00.000Z\",\n",
    "                                stock_code=stock_list[stock],\n",
    "                                exchange_code=\"NSE\",\n",
    "                                product_type=\"cash\")\n",
    "        # convert data into dataframe\n",
    "        df = pd.DataFrame(data['Success'])\n",
    "        df = df[['datetime','open','high','low','close']] \n",
    "        format_data(df)\n",
    "        add_sma(df)\n",
    "        add_rsi(df,14)\n",
    "        pr = add_rsi(df,14)\n",
    "        RSI = pr[\"RSI_14\"].iloc[-1]\n",
    "        RSI_1 = pr[\"RSI_14\"].iloc[-2]\n",
    "        if  (RSI_1 >50) and stock_status[stock_list[stock]]== \"waiting\":\n",
    "            print(f'current level of{stock_list[stock]} RSI{RSI}')\n",
    "            print('RSI is greater than 50 :Buy signal')\n",
    "            buy = breeze.place_order(stock_code=stock_list[stock],\n",
    "                        exchange_code=\"NSE\",\n",
    "                        product=\"cash\",\n",
    "                        action=\"buy\",\n",
    "                        order_type=\"market\",\n",
    "                        stoploss=\"\",\n",
    "                        quantity=\"1\",\n",
    "                        price=str(current_price),\n",
    "                        validity=\"day\")\n",
    "            print(buy)\n",
    "            stock_status.update({stock_list[stock]:\"EXECUTED\"})\n",
    "            print(stock_status[stock_list[stock]])\n",
    "    \n",
    "            \n",
    "        else:\n",
    "            print(f'current level of {stock_list[stock]} RSI is {RSI}')\n",
    "            print(\"RSI is lesser than 50 :DO Nothing\")\n",
    "        price = breeze.get_quotes(stock_code = stock_list[stock],\n",
    "                                  exchange_code = \"NSE\",\n",
    "                                  product_type = \"cash\")   \n",
    "\n",
    "        if price['Status'] == 200:\n",
    "            current_price = price[\"Success\"][0]['ltp']\n",
    "            print(f'request was a success,current {stock_list[stock]} price is:{current_price}')\n",
    "        else:\n",
    "            print('failed request')\n",
    "        now = datetime.now()\n",
    "        time.sleep(1)"
   ]
  },
  {
   "cell_type": "code",
   "execution_count": 9,
   "id": "68860527",
   "metadata": {},
   "outputs": [
    {
     "name": "stdout",
     "output_type": "stream",
     "text": [
      "current level of RSI is 49.7\n",
      "RSI is lesser than 50 :DO Nothing\n",
      "request was a success,current BHEL price is:79.2\n",
      "current level of RSI is 49.7\n",
      "RSI is lesser than 50 :DO Nothing\n",
      "request was a success,current BHEL price is:79.2\n",
      "current level of RSI is 49.7\n",
      "RSI is lesser than 50 :DO Nothing\n",
      "request was a success,current BHEL price is:79.2\n",
      "current level of RSI is 49.7\n",
      "RSI is lesser than 50 :DO Nothing\n",
      "request was a success,current BHEL price is:79.2\n",
      "current level of RSI is 49.7\n",
      "RSI is lesser than 50 :DO Nothing\n",
      "request was a success,current BHEL price is:79.2\n",
      "current level of RSI is 49.7\n",
      "RSI is lesser than 50 :DO Nothing\n",
      "request was a success,current BHEL price is:79.2\n",
      "current level of RSI is 49.7\n",
      "RSI is lesser than 50 :DO Nothing\n",
      "request was a success,current BHEL price is:79.2\n",
      "current level of RSI is 49.7\n",
      "RSI is lesser than 50 :DO Nothing\n",
      "request was a success,current BHEL price is:79.2\n",
      "current level of RSI is 49.7\n",
      "RSI is lesser than 50 :DO Nothing\n",
      "request was a success,current BHEL price is:79.2\n",
      "current level of RSI is 49.7\n",
      "RSI is lesser than 50 :DO Nothing\n",
      "request was a success,current BHEL price is:79.2\n",
      "current level of RSI is 49.7\n",
      "RSI is lesser than 50 :DO Nothing\n",
      "request was a success,current BHEL price is:79.2\n",
      "current level of RSI is 49.7\n",
      "RSI is lesser than 50 :DO Nothing\n",
      "request was a success,current BHEL price is:79.2\n",
      "current level of RSI is 49.7\n",
      "RSI is lesser than 50 :DO Nothing\n",
      "request was a success,current BHEL price is:79.2\n",
      "current level of RSI is 49.7\n",
      "RSI is lesser than 50 :DO Nothing\n",
      "request was a success,current BHEL price is:79.2\n",
      "current level of RSI is 49.7\n",
      "RSI is lesser than 50 :DO Nothing\n",
      "request was a success,current BHEL price is:79.2\n",
      "current level of RSI is 49.7\n",
      "RSI is lesser than 50 :DO Nothing\n",
      "request was a success,current BHEL price is:79.2\n"
     ]
    },
    {
     "ename": "KeyboardInterrupt",
     "evalue": "",
     "output_type": "error",
     "traceback": [
      "\u001b[0;31m---------------------------------------------------------------------------\u001b[0m",
      "\u001b[0;31mKeyboardInterrupt\u001b[0m                         Traceback (most recent call last)",
      "\u001b[0;32m/var/folders/ww/y9j0h59n1vlcwf74g2wntg_h0000gn/T/ipykernel_24469/1636753481.py\u001b[0m in \u001b[0;36m<module>\u001b[0;34m\u001b[0m\n\u001b[1;32m     36\u001b[0m         \u001b[0mprint\u001b[0m\u001b[0;34m(\u001b[0m\u001b[0;34m'failed request'\u001b[0m\u001b[0;34m)\u001b[0m\u001b[0;34m\u001b[0m\u001b[0;34m\u001b[0m\u001b[0m\n\u001b[1;32m     37\u001b[0m     \u001b[0mnow\u001b[0m \u001b[0;34m=\u001b[0m \u001b[0mdatetime\u001b[0m\u001b[0;34m.\u001b[0m\u001b[0mnow\u001b[0m\u001b[0;34m(\u001b[0m\u001b[0;34m)\u001b[0m\u001b[0;34m\u001b[0m\u001b[0;34m\u001b[0m\u001b[0m\n\u001b[0;32m---> 38\u001b[0;31m     \u001b[0mtime\u001b[0m\u001b[0;34m.\u001b[0m\u001b[0msleep\u001b[0m\u001b[0;34m(\u001b[0m\u001b[0;36m5\u001b[0m\u001b[0;34m)\u001b[0m\u001b[0;34m\u001b[0m\u001b[0;34m\u001b[0m\u001b[0m\n\u001b[0m",
      "\u001b[0;31mKeyboardInterrupt\u001b[0m: "
     ]
    }
   ],
   "source": [
    "# # stock_list = [\"GAIL\",YESBAN\",\"BHEL\",\"IDECEL\",\"INDR\",\"PUNBAN\"]\n",
    "# from datetime import datetime\n",
    "# from datetime import timedelta\n",
    "# import time\n",
    "# while True: \n",
    "#     format_data(df)\n",
    "#     add_sma(df)\n",
    "#     add_rsi(df,14)\n",
    "#     pr = add_rsi(df,14)\n",
    "#     RSI = pr[\"RSI_14\"].iloc[-1]\n",
    "#     RSI_1 = pr[\"RSI_14\"].iloc[-2]\n",
    "#     if (RSI < RSI_1) and (RSI_1 >50) :\n",
    "#         print(f'current level of RSI{RSI}')\n",
    "#         print('RSI is greater than 50 :Buy signal')\n",
    "#         buy = breeze.place_order(stock_code=\"BHEL\",\n",
    "#                     exchange_code=\"NSE\",\n",
    "#                     product=\"cash\",\n",
    "#                     action=\"buy\",\n",
    "#                     order_type=\"market\",\n",
    "#                     stoploss=\"\",\n",
    "#                     quantity=\"1\",\n",
    "#                     price=str(current_price),\n",
    "#                     validity=\"day\")\n",
    "#         print(buy)\n",
    "#         break\n",
    "#     else:\n",
    "#         print(f'current level of{stock_list[stock]} RSI is {RSI}')\n",
    "#         print(\"RSI is lesser than 50 :DO Nothing\")\n",
    "#     price = breeze.get_quotes(stock_code = \"BHEL\",\n",
    "#                               exchange_code = \"NSE\",\n",
    "#                               product_type = \"cash\")   \n",
    "   \n",
    "#     if price['Status'] == 200:\n",
    "#         current_price = price[\"Success\"][0]['ltp']\n",
    "#         print(f'request was a success,current BHEL price is:{current_price}')\n",
    "#     else:\n",
    "#         print('failed request')\n",
    "#     now = datetime.now()\n",
    "#     time.sleep(1)"
   ]
  },
  {
   "cell_type": "code",
   "execution_count": 21,
   "id": "0843f247",
   "metadata": {},
   "outputs": [],
   "source": [
    "breeze.ws_connect()"
   ]
  },
  {
   "cell_type": "code",
   "execution_count": null,
   "id": "2097fb81",
   "metadata": {},
   "outputs": [],
   "source": [
    "# Callback to receive ticks.\n",
    "def on_ticks(ticks):\n",
    "    print(\"Ticks: {}\".format(ticks))\n",
    "\n",
    "# Assign the callbacks.\n",
    "breeze.on_ticks = on_ticks\n",
    "\n",
    "# subscribe stocks feeds\n",
    "breeze.subscribe_feeds(exchange_code=\"NSE\", stock_code=\"ZEEENT\", product_type=\"cash\", get_exchange_quotes=True,get_market_depth = True)"
   ]
  },
  {
   "cell_type": "code",
   "execution_count": null,
   "id": "e06a51fc",
   "metadata": {},
   "outputs": [],
   "source": [
    "breeze.unsubscribe_feeds(exchange_code=\"NSE\", stock_code=\"ZEEENT\", product_type=\"cash\", get_exchange_quotes=True, get_market_depth = True)"
   ]
  },
  {
   "cell_type": "code",
   "execution_count": null,
   "id": "fad30eb7",
   "metadata": {},
   "outputs": [],
   "source": [
    "breeze.ws_disconnect()"
   ]
  },
  {
   "cell_type": "code",
   "execution_count": null,
   "id": "c670d5a5",
   "metadata": {},
   "outputs": [],
   "source": [
    "# Sohum - project\n",
    "# LIVE RSI deployment for 5 stocks\n",
    "## replace getquote api and use websockets\n"
   ]
  },
  {
   "cell_type": "code",
   "execution_count": null,
   "id": "896f8f8c",
   "metadata": {},
   "outputs": [],
   "source": [
    "\n",
    "# Sideways - 60%  -  Create good side way Straregies(3)\n",
    "# Trend following - 3  \n",
    "# momentum - 3\n",
    "# Mean reverting - 3\n",
    "# First -step\n",
    "# Initial Creating\n",
    "# combination of technical indictors in market movement \n",
    "# Second Step \n",
    "# Analyzing the market movement \n",
    "\n"
   ]
  }
 ],
 "metadata": {
  "kernelspec": {
   "display_name": "Python 3 (ipykernel)",
   "language": "python",
   "name": "python3"
  },
  "language_info": {
   "codemirror_mode": {
    "name": "ipython",
    "version": 3
   },
   "file_extension": ".py",
   "mimetype": "text/x-python",
   "name": "python",
   "nbconvert_exporter": "python",
   "pygments_lexer": "ipython3",
   "version": "3.9.13"
  }
 },
 "nbformat": 4,
 "nbformat_minor": 5
}
